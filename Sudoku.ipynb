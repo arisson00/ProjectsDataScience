{
  "nbformat": 4,
  "nbformat_minor": 0,
  "metadata": {
    "colab": {
      "provenance": []
    },
    "kernelspec": {
      "name": "python3",
      "display_name": "Python 3"
    },
    "language_info": {
      "name": "python"
    }
  },
  "cells": [
    {
      "cell_type": "code",
      "source": [
        "!pip install pulp"
      ],
      "metadata": {
        "colab": {
          "base_uri": "https://localhost:8080/"
        },
        "id": "KeaGZYMFeV2y",
        "outputId": "9ec046ff-1f81-4c0d-8080-a215980f235d"
      },
      "execution_count": null,
      "outputs": [
        {
          "output_type": "stream",
          "name": "stdout",
          "text": [
            "Looking in indexes: https://pypi.org/simple, https://us-python.pkg.dev/colab-wheels/public/simple/\n",
            "Collecting pulp\n",
            "  Downloading PuLP-2.6.0-py3-none-any.whl (14.2 MB)\n",
            "\u001b[K     |████████████████████████████████| 14.2 MB 4.1 MB/s \n",
            "\u001b[?25hInstalling collected packages: pulp\n",
            "Successfully installed pulp-2.6.0\n"
          ]
        }
      ]
    },
    {
      "cell_type": "code",
      "execution_count": null,
      "metadata": {
        "id": "dAQXkRggdz32"
      },
      "outputs": [],
      "source": [
        "import pulp as plp\n",
        "import numpy as np\n"
      ]
    },
    {
      "cell_type": "code",
      "source": [
        "prob = plp.LpProblem(\"Sudoku_Solver\")"
      ],
      "metadata": {
        "id": "oY2dasdwevxn"
      },
      "execution_count": null,
      "outputs": []
    },
    {
      "cell_type": "code",
      "source": [
        "# Set the objective function\n",
        "# Sudoku works only on the constraints\n",
        "# There is no objective function that we are trying maximize or minimize.\n",
        "# Set a dummy objective\n",
        "objective = plp.lpSum(0)\n",
        "prob.setObjective(objective)"
      ],
      "metadata": {
        "id": "mJycfi1Xewk2"
      },
      "execution_count": null,
      "outputs": []
    },
    {
      "cell_type": "code",
      "source": [
        "rows = range(0,9)\n",
        "cols = range(0,9)\n",
        "grids = range(0,9)\n",
        "values = range(1,10)\n",
        "\n",
        "# Decision Variable/Target variable\n",
        "grid_vars = plp.LpVariable.dicts(\"grid_value\", (rows,cols,values), cat='Binary')"
      ],
      "metadata": {
        "id": "QygavcYNfFvs"
      },
      "execution_count": null,
      "outputs": []
    },
    {
      "cell_type": "code",
      "source": [
        "# CONSTRAINT 1: Constraint to ensure only one value is filled for a cell\n",
        "for row in rows:\n",
        "    for col in cols:\n",
        "            # print([grid_vars[row][col][value] for value in values])\n",
        "            prob.addConstraint(plp.LpConstraint(e=plp.lpSum([grid_vars[row][col][value] for value in values]),\n",
        "                                    sense=plp.LpConstraintEQ, rhs=1, name=f\"constraint_sum_{row}_{col}\"))\n",
        "\n",
        "\n",
        "# CONSTRAINT 2: Constraint to ensure that values from 1 to 9 is filled only once in a row\n",
        "for row in rows:\n",
        "    for value in values:\n",
        "        prob.addConstraint(plp.LpConstraint(e=plp.lpSum([grid_vars[row][col][value]*value  for col in cols]),\n",
        "                                    sense=plp.LpConstraintEQ, rhs=value, name=f\"constraint_uniq_row_{row}_{value}\"))\n",
        "\n",
        "# CONSTRAINT 3: Constraint to ensure that values from 1 to 9 is filled only once in a column\n",
        "for col in cols:\n",
        "    for value in values:\n",
        "        prob.addConstraint(plp.LpConstraint(e=plp.lpSum([grid_vars[row][col][value]*value  for row in rows]),\n",
        "                                    sense=plp.LpConstraintEQ, rhs=value, name=f\"constraint_uniq_col_{col}_{value}\"))\n",
        "\n",
        "\n",
        "# CONSTRAINT 4: Constraint to ensure that values from 1 to 9 is filled only once in the 3x3 grid\n",
        "for grid in grids:\n",
        "    grid_row  = int(grid/3)\n",
        "    grid_col  = int(grid%3)\n",
        "\n",
        "    for value in values:\n",
        "        prob.addConstraint(plp.LpConstraint(e=plp.lpSum([grid_vars[grid_row*3+row][grid_col*3+col][value]*value for col in range(0,3) for row in range(0,3)]),\n",
        "                                    sense=plp.LpConstraintEQ, rhs=value, name=f\"constraint_uniq_grid_{grid}_{value}\"))"
      ],
      "metadata": {
        "id": "cpTsL-JEfGUc"
      },
      "execution_count": null,
      "outputs": []
    },
    {
      "cell_type": "code",
      "source": [
        "input_sudoku = [\n",
        "                    [3,0,0,8,0,0,0,0,1],\n",
        "                    [0,0,0,0,0,2,0,0,0],\n",
        "                    [0,4,1,5,0,0,8,3,0],\n",
        "                    [0,2,0,0,0,1,0,0,0],\n",
        "                    [8,5,0,4,0,3,0,1,7],\n",
        "\n",
        "                    [0,0,0,7,0,0,0,2,0],\n",
        "                    [0,8,5,0,0,9,7,4,0],\n",
        "                    [0,0,0,1,0,0,0,0,0],\n",
        "                    [9,0,0,0,0,7,0,0,6]\n",
        "                ]\n"
      ],
      "metadata": {
        "id": "fvkXCi8flPLY"
      },
      "execution_count": null,
      "outputs": []
    },
    {
      "cell_type": "code",
      "source": [
        " # Fill the prefilled values from input sudoku as constraints\n",
        "for row in rows:\n",
        "    for col in cols:\n",
        "        if(input_sudoku[row][col] != 0):\n",
        "            prob.addConstraint(plp.LpConstraint(e=plp.lpSum([grid_vars[row][col][value]*value  for value in values]),\n",
        "                                    sense=plp.LpConstraintEQ,\n",
        "                                    rhs=input_sudoku[row][col],\n",
        "                                    name=f\"constraint_prefilled_{row}_{col}\"))"
      ],
      "metadata": {
        "id": "8o1DC_MAfk9j"
      },
      "execution_count": null,
      "outputs": []
    },
    {
      "cell_type": "code",
      "source": [
        "prob.solve()"
      ],
      "metadata": {
        "colab": {
          "base_uri": "https://localhost:8080/"
        },
        "id": "9aPHyoxClXAk",
        "outputId": "cee608f8-3464-4f85-9c5f-f0b1d1393c7c"
      },
      "execution_count": null,
      "outputs": [
        {
          "output_type": "execute_result",
          "data": {
            "text/plain": [
              "1"
            ]
          },
          "metadata": {},
          "execution_count": 9
        }
      ]
    },
    {
      "cell_type": "code",
      "source": [
        "print(f'Solution Status = {plp.LpStatus[prob.status]}')\n",
        "\n",
        "# Code to extract the final solution grid\n",
        "solution = [[0 for col in cols] for row in rows]\n",
        "grid_list = []\n",
        "for row in rows:\n",
        "    for col in cols:\n",
        "        for value in values:\n",
        "            if plp.value(grid_vars[row][col][value]):\n",
        "                solution[row][col] = value\n",
        "\n",
        "# Print the final solution as a grid\n",
        "print(f\"\\nFinal result:\")\n",
        "\n",
        "print(\"\\n\\n+ ----------- + ----------- + ----------- +\",end=\"\")\n",
        "for row in rows:\n",
        "    print(\"\\n\",end=\"\\n|  \")\n",
        "    for col in cols:\n",
        "        num_end = \"  |  \" if ((col+1)%3 == 0) else \"   \"\n",
        "        print(solution[row][col],end=num_end)\n",
        "\n",
        "    if ((row+1)%3 == 0):\n",
        "        print(\"\\n\\n+ ----------- + ----------- + ----------- +\",end=\"\")"
      ],
      "metadata": {
        "colab": {
          "base_uri": "https://localhost:8080/"
        },
        "id": "Q0iIk5b8mIa6",
        "outputId": "312e5657-d278-417a-f9d3-ba70dd9fdda1"
      },
      "execution_count": null,
      "outputs": [
        {
          "output_type": "stream",
          "name": "stdout",
          "text": [
            "Solution Status = Optimal\n",
            "\n",
            "Final result:\n",
            "\n",
            "\n",
            "+ ----------- + ----------- + ----------- +\n",
            "\n",
            "|  3   6   7  |  8   9   4  |  2   5   1  |  \n",
            "\n",
            "|  5   9   8  |  3   1   2  |  6   7   4  |  \n",
            "\n",
            "|  2   4   1  |  5   7   6  |  8   3   9  |  \n",
            "\n",
            "+ ----------- + ----------- + ----------- +\n",
            "\n",
            "|  7   2   3  |  9   8   1  |  4   6   5  |  \n",
            "\n",
            "|  8   5   6  |  4   2   3  |  9   1   7  |  \n",
            "\n",
            "|  4   1   9  |  7   6   5  |  3   2   8  |  \n",
            "\n",
            "+ ----------- + ----------- + ----------- +\n",
            "\n",
            "|  1   8   5  |  6   3   9  |  7   4   2  |  \n",
            "\n",
            "|  6   7   2  |  1   4   8  |  5   9   3  |  \n",
            "\n",
            "|  9   3   4  |  2   5   7  |  1   8   6  |  \n",
            "\n",
            "+ ----------- + ----------- + ----------- +"
          ]
        }
      ]
    },
    {
      "cell_type": "code",
      "source": [],
      "metadata": {
        "id": "4eowcFylc8bO"
      },
      "execution_count": null,
      "outputs": []
    }
  ]
}